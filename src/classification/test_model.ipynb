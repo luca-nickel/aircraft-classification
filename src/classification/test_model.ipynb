{
 "cells": [
  {
   "cell_type": "code",
   "execution_count": 42,
   "metadata": {},
   "outputs": [
    {
     "name": "stderr",
     "output_type": "stream",
     "text": [
      "Some weights of ViTForImageClassification were not initialized from the model checkpoint at google/vit-base-patch16-224-in21k and are newly initialized: ['classifier.bias', 'classifier.weight']\n",
      "You should probably TRAIN this model on a down-stream task to be able to use it for predictions and inference.\n"
     ]
    },
    {
     "name": "stdout",
     "output_type": "stream",
     "text": [
      "A380\n",
      "A380 (12.680869102478027)\n",
      "747-300 (11.449588775634766)\n",
      "747-200 (9.584214210510254)\n",
      "747-400 (7.507030487060547)\n",
      "A310 (6.2847466468811035)\n"
     ]
    }
   ],
   "source": [
    "from torchvision.models import vit_b_16\n",
    "from pathlib import Path\n",
    "import torch\n",
    "from transformers import AutoConfig, AutoModelForImageClassification\n",
    "from torchvision import transforms\n",
    "import PIL\n",
    "\n",
    "root = Path().resolve().parent.parent\n",
    "path = root / Path(\"data/output/classification/version_0/checkpoints/variant_b16_224.ckpt\")\n",
    "\n",
    "# Initialize with pretrained weights\n",
    "model = AutoModelForImageClassification.from_pretrained(\n",
    "    \"google/vit-base-patch16-224-in21k\",\n",
    "    num_labels=100,\n",
    "    ignore_mismatched_sizes=True,\n",
    "    image_size=224,\n",
    ")\n",
    "\n",
    "# Load checkpoint weights\n",
    "ckpt = torch.load(path, map_location=\"cpu\")[\"state_dict\"]\n",
    "\n",
    "# Remove prefix from key names\n",
    "new_state_dict = {}\n",
    "for k, v in ckpt.items():\n",
    "    if k.startswith(\"net\"):\n",
    "        k = k.replace(\"net\" + \".\", \"\")\n",
    "        new_state_dict[k] = v\n",
    "\n",
    "model.load_state_dict(new_state_dict, strict=True)\n",
    "\n",
    "img_path = root / Path(\"data/input/fgvc-aircraft-2013b/data/images/1617066.jpg\")\n",
    "image = PIL.Image.open(img_path).convert(\"RGB\")\n",
    "\n",
    "transforms_test = transforms.Compose(\n",
    "    [\n",
    "        transforms.Resize(\n",
    "            (224, 224),\n",
    "        ),\n",
    "        transforms.ToTensor(),\n",
    "        transforms.Normalize(mean=(0.5, 0.5, 0.5), std=(0.5, 0.5, 0.5)),\n",
    "    ]\n",
    ")\n",
    "\n",
    "image = transforms_test(image)\n",
    "\n",
    "text_path = root / Path(\"data/input/fgvc-aircraft-2013b/data/variants.txt\")\n",
    "file = open(text_path, \"r\")\n",
    "variants = file.readlines()\n",
    "variants = [variant[:-1] for variant in variants]\n",
    "file.close()\n",
    "\n",
    "model.eval()\n",
    "with torch.no_grad():\n",
    "  outputs = model(image.unsqueeze(0))\n",
    "logits = outputs.logits\n",
    "\n",
    "prediction = logits.argmax(-1)\n",
    "print(variants[prediction.item()])\n",
    "\n",
    "top5_prob, top5_classes = torch.topk(logits, 5)\n",
    "top5_prob = top5_prob[-1].numpy().tolist()\n",
    "for i, x in enumerate(top5_classes[-1].numpy().tolist()):\n",
    "    print(f\"{variants[x]} ({top5_prob[i]})\")"
   ]
  },
  {
   "cell_type": "code",
   "execution_count": 44,
   "metadata": {},
   "outputs": [
    {
     "name": "stdout",
     "output_type": "stream",
     "text": [
      "[0.5, 0.5, 0.5] [0.5, 0.5, 0.5] 224\n"
     ]
    }
   ],
   "source": [
    "from transformers import ViTImageProcessor\n",
    "\n",
    "processor = ViTImageProcessor.from_pretrained(\"google/vit-base-patch16-224-in21k\")\n",
    "image_mean = processor.image_mean\n",
    "image_std = processor.image_std\n",
    "size = processor.size[\"height\"]\n",
    "\n",
    "print(image_mean, image_std, size)"
   ]
  }
 ],
 "metadata": {
  "kernelspec": {
   "display_name": "aircraft",
   "language": "python",
   "name": "python3"
  },
  "language_info": {
   "codemirror_mode": {
    "name": "ipython",
    "version": 3
   },
   "file_extension": ".py",
   "mimetype": "text/x-python",
   "name": "python",
   "nbconvert_exporter": "python",
   "pygments_lexer": "ipython3",
   "version": "3.11.0"
  }
 },
 "nbformat": 4,
 "nbformat_minor": 2
}
